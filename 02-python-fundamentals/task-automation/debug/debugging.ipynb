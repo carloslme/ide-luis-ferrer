{
 "cells": [
  {
   "cell_type": "markdown",
   "metadata": {},
   "source": [
    "# Introduction\n",
    "There are a few tools and techniques to identify what exactly your code is doing and where it’s going wrong. First, you will look at logging and assertions, two features that can help you detect bugs early. In general, the earlier you catch bugs, the easier they will be to fix.\n",
    "\n",
    "Second, you will look at how to use the debugger. The debugger is a feature of IDLE that executes a program one instruction at a time, giving you a chance to inspect the values in variables while your code runs, and track how the values change over the course of your program. This is much slower than running the deducing what the values might be from the source code."
   ]
  },
  {
   "cell_type": "markdown",
   "metadata": {},
   "source": [
    "# Raising Exceptions\n",
    "Python raises an exception whenever it tries to execute invalid code.\n",
    "\n",
    "Raising an exception is a way of saying, “Stop running the code in this function and move the program execution to the except statement.”\n",
    "\n",
    "Exceptions are raised with a raise statement. In code, a raise statement consists of the following: \n",
    "* The raise keyword \n",
    "* A call to the `Exception()` function \n",
    "* A string with a helpful error message passed to the `Exception()` function"
   ]
  },
  {
   "cell_type": "code",
   "execution_count": 1,
   "metadata": {},
   "outputs": [
    {
     "ename": "Exception",
     "evalue": "This is the error message",
     "output_type": "error",
     "traceback": [
      "\u001b[0;31m---------------------------------------------------------------------------\u001b[0m",
      "\u001b[0;31mException\u001b[0m                                 Traceback (most recent call last)",
      "Cell \u001b[0;32mIn[1], line 1\u001b[0m\n\u001b[0;32m----> 1\u001b[0m \u001b[39mraise\u001b[39;00m \u001b[39mException\u001b[39;00m(\u001b[39m'\u001b[39m\u001b[39mThis is the error message\u001b[39m\u001b[39m'\u001b[39m)\n",
      "\u001b[0;31mException\u001b[0m: This is the error message"
     ]
    }
   ],
   "source": [
    "raise Exception('This is the error message')"
   ]
  },
  {
   "cell_type": "markdown",
   "metadata": {},
   "source": [
    "If there are no `try` and `except` statements covering the raise statement that raised the exception, the program simply crashes and displays the exception’s error message.\n",
    "\n",
    "Often it’s the code that calls the function, not the fuction itself, that knows how to handle an expection. So you will commonly see a raise statement inside a function and the try and except statements in the code calling the function."
   ]
  },
  {
   "cell_type": "code",
   "execution_count": 2,
   "metadata": {},
   "outputs": [
    {
     "name": "stdout",
     "output_type": "stream",
     "text": [
      "****\n",
      "*  *\n",
      "****\n",
      "*  *\n",
      "****\n",
      "OOOOOOOOOOOOOOOOOOOO\n",
      "O                  O\n",
      "OOOOOOOOOOOOOOOOOOOO\n",
      "O                  O\n",
      "OOOOOOOOOOOOOOOOOOOO\n",
      "O                  O\n",
      "OOOOOOOOOOOOOOOOOOOO\n",
      "An exception happened: Width must be greater than 2.\n",
      "An exception happened: Symbol must be a single character string.\n"
     ]
    }
   ],
   "source": [
    "def boxPrint(symbol, width, height): \n",
    "  if len(symbol) != 1: \n",
    "    raise Exception('Symbol must be a single character string.') \n",
    "  if width <= 2: \n",
    "    raise Exception('Width must be greater than 2.') \n",
    "  if height <= 2: \n",
    "    raise Exception('Height must be greater than 2.') \n",
    "  print(symbol * width) \n",
    "  for i in range(height - 2): \n",
    "    print(symbol + (' ' * (width - 2)) + symbol) \n",
    "    print(symbol * width) \n",
    "\n",
    "for sym, w, h in (('*', 4, 4), ('O', 20, 5), ('x', 1, 3), ('ZZ', 3, 3)): \n",
    "  try: \n",
    "    boxPrint(sym, w, h) \n",
    "  except Exception as err: \n",
    "    print('An exception happened: ' + str(err))"
   ]
  },
  {
   "cell_type": "markdown",
   "metadata": {},
   "source": [
    "Using the `try` and `except` statements, you can handle errors more gracefully instead of letting the entire program crash."
   ]
  },
  {
   "cell_type": "markdown",
   "metadata": {},
   "source": [
    "# Getting the Traceback as String\n",
    "When Python encounters an error, it produces a treasure trove of error information called the `traceback` . The traceback includes the error message, the line number of the line that caused the error, and the sequence of the function calls that led to the error. This sequence of calls is called the `call stack`.\n"
   ]
  },
  {
   "cell_type": "code",
   "execution_count": 3,
   "metadata": {},
   "outputs": [
    {
     "ename": "Exception",
     "evalue": "This is the error message.",
     "output_type": "error",
     "traceback": [
      "\u001b[0;31m---------------------------------------------------------------------------\u001b[0m",
      "\u001b[0;31mException\u001b[0m                                 Traceback (most recent call last)",
      "Cell \u001b[0;32mIn[3], line 5\u001b[0m\n\u001b[1;32m      3\u001b[0m \u001b[39mdef\u001b[39;00m \u001b[39mbacon\u001b[39m(): \n\u001b[1;32m      4\u001b[0m   \u001b[39mraise\u001b[39;00m \u001b[39mException\u001b[39;00m(\u001b[39m'\u001b[39m\u001b[39mThis is the error message.\u001b[39m\u001b[39m'\u001b[39m) \n\u001b[0;32m----> 5\u001b[0m spam()\n",
      "Cell \u001b[0;32mIn[3], line 2\u001b[0m, in \u001b[0;36mspam\u001b[0;34m()\u001b[0m\n\u001b[1;32m      1\u001b[0m \u001b[39mdef\u001b[39;00m \u001b[39mspam\u001b[39m(): \n\u001b[0;32m----> 2\u001b[0m   bacon()\n",
      "Cell \u001b[0;32mIn[3], line 4\u001b[0m, in \u001b[0;36mbacon\u001b[0;34m()\u001b[0m\n\u001b[1;32m      3\u001b[0m \u001b[39mdef\u001b[39;00m \u001b[39mbacon\u001b[39m(): \n\u001b[0;32m----> 4\u001b[0m   \u001b[39mraise\u001b[39;00m \u001b[39mException\u001b[39;00m(\u001b[39m'\u001b[39m\u001b[39mThis is the error message.\u001b[39m\u001b[39m'\u001b[39m)\n",
      "\u001b[0;31mException\u001b[0m: This is the error message."
     ]
    }
   ],
   "source": [
    "def spam(): \n",
    "  bacon() \n",
    "def bacon(): \n",
    "  raise Exception('This is the error message.') \n",
    "spam()"
   ]
  },
  {
   "cell_type": "markdown",
   "metadata": {},
   "source": [
    "The traceback is displayed by Python whenever a raised exception goes unhandled. But you can also obtain it as a string by calling `traceback.format_exc()`. This function is useful if you want the information from an exception’s traceback but also want an except statement to gracefully handle the exception. You will need to import Python’s traceback module before calling this function."
   ]
  },
  {
   "cell_type": "code",
   "execution_count": 4,
   "metadata": {},
   "outputs": [
    {
     "name": "stdout",
     "output_type": "stream",
     "text": [
      "The traceback info was written to errorInfo.txt\n"
     ]
    }
   ],
   "source": [
    "import traceback\n",
    "try: \n",
    "  raise Exception('This is the error message.')\n",
    "except:\n",
    "  errorFile = open('errorInfo.txt', 'w')\n",
    "  errorFile.write(traceback.format_exc())\n",
    "  errorFile.close()\n",
    "  print('The traceback info was written to errorInfo.txt')"
   ]
  },
  {
   "cell_type": "code",
   "execution_count": 6,
   "metadata": {},
   "outputs": [
    {
     "data": {
      "text/plain": [
       "'Traceback (most recent call last):\\n  File \"/var/folders/b4/tqgv7fkn27z97nlfhwtn2jqm0000gp/T/ipykernel_23282/574075980.py\", line 3, in <module>\\n    raise Exception(\\'This is the error message.\\')\\nException: This is the error message.\\n'"
      ]
     },
     "execution_count": 6,
     "metadata": {},
     "output_type": "execute_result"
    }
   ],
   "source": [
    "errorFile = open('./errorInfo.txt')\n",
    "errorFile.read()"
   ]
  },
  {
   "cell_type": "markdown",
   "metadata": {},
   "source": [
    "# Logging - using the logging module\n",
    "Logging is a great way to understand what’s happening in your program and in what order its happening. Python’s logging module makes it easy to create a record of custom messages that you write. These log messages will describe when the program execution has reached the `logging` function call and list any variables you have specified at that point in time. On the other hand, a missing log message indicates a part of the code was skipped and never executed."
   ]
  },
  {
   "cell_type": "code",
   "execution_count": 7,
   "metadata": {},
   "outputs": [
    {
     "name": "stderr",
     "output_type": "stream",
     "text": [
      " 2023-08-02 18:58:46,546 - DEBUG - Start of program\n"
     ]
    }
   ],
   "source": [
    "# Enabling the logging\n",
    "import logging \n",
    "logging.basicConfig(level=logging.DEBUG, format=' %(asctime)s - %(levelname)s - %(message)s')\n",
    "logging.debug('Start of program')"
   ]
  },
  {
   "cell_type": "markdown",
   "metadata": {},
   "source": [
    "When Python logs an event, it creates a `LogRecord` object that holds information about that event. The `logging` module’s `basicConfig()` function lets you specify what details about the `LogRecord` object you want to see and how you want those details displayed."
   ]
  },
  {
   "cell_type": "code",
   "execution_count": 8,
   "metadata": {},
   "outputs": [
    {
     "name": "stderr",
     "output_type": "stream",
     "text": [
      " 2023-08-02 18:58:57,276 - DEBUG - Start of factorial(5%)\n",
      " 2023-08-02 18:58:57,277 - DEBUG - i is 0, total is 0\n",
      " 2023-08-02 18:58:57,278 - DEBUG - End of factorial(5%)\n",
      " 2023-08-02 18:58:57,279 - DEBUG - i is 1, total is 0\n",
      " 2023-08-02 18:58:57,279 - DEBUG - End of factorial(5%)\n",
      " 2023-08-02 18:58:57,280 - DEBUG - i is 2, total is 0\n",
      " 2023-08-02 18:58:57,281 - DEBUG - End of factorial(5%)\n",
      " 2023-08-02 18:58:57,282 - DEBUG - i is 3, total is 0\n",
      " 2023-08-02 18:58:57,282 - DEBUG - End of factorial(5%)\n",
      " 2023-08-02 18:58:57,283 - DEBUG - i is 4, total is 0\n",
      " 2023-08-02 18:58:57,284 - DEBUG - End of factorial(5%)\n",
      " 2023-08-02 18:58:57,284 - DEBUG - i is 5, total is 0\n",
      " 2023-08-02 18:58:57,285 - DEBUG - End of factorial(5%)\n",
      " 2023-08-02 18:58:57,286 - DEBUG - End of program\n"
     ]
    },
    {
     "name": "stdout",
     "output_type": "stream",
     "text": [
      "0\n"
     ]
    }
   ],
   "source": [
    "def factorial(n): \n",
    "  logging.debug('Start of factorial(%s%%)' % (n)) \n",
    "  total = 1 \n",
    "  for i in range(n + 1): \n",
    "    total *= i\n",
    "    logging.debug('i is ' + str(i) + ', total is ' + str(total)) \n",
    "    logging.debug('End of factorial(%s%%)' % (n)) \n",
    "  \n",
    "  return total\n",
    "\n",
    "print(factorial(5)) \n",
    "logging.debug('End of program')"
   ]
  },
  {
   "cell_type": "code",
   "execution_count": 9,
   "metadata": {},
   "outputs": [
    {
     "name": "stderr",
     "output_type": "stream",
     "text": [
      " 2023-08-02 18:59:05,391 - DEBUG - Start of factorial(5%)\n",
      " 2023-08-02 18:59:05,392 - DEBUG - i is 1, total is 1\n",
      " 2023-08-02 18:59:05,393 - DEBUG - End of factorial(5%)\n",
      " 2023-08-02 18:59:05,394 - DEBUG - i is 2, total is 2\n",
      " 2023-08-02 18:59:05,396 - DEBUG - End of factorial(5%)\n",
      " 2023-08-02 18:59:05,397 - DEBUG - i is 3, total is 6\n",
      " 2023-08-02 18:59:05,398 - DEBUG - End of factorial(5%)\n",
      " 2023-08-02 18:59:05,398 - DEBUG - i is 4, total is 24\n",
      " 2023-08-02 18:59:05,400 - DEBUG - End of factorial(5%)\n",
      " 2023-08-02 18:59:05,401 - DEBUG - i is 5, total is 120\n",
      " 2023-08-02 18:59:05,402 - DEBUG - End of factorial(5%)\n",
      " 2023-08-02 18:59:05,403 - DEBUG - End of program\n"
     ]
    },
    {
     "name": "stdout",
     "output_type": "stream",
     "text": [
      "120\n"
     ]
    }
   ],
   "source": [
    "def factorial(n): \n",
    "  logging.debug('Start of factorial(%s%%)' % (n)) \n",
    "  total = 1 \n",
    "  for i in range(1,n + 1): \n",
    "    total *= i\n",
    "    logging.debug('i is ' + str(i) + ', total is ' + str(total)) \n",
    "    logging.debug('End of factorial(%s%%)' % (n)) \n",
    "  return total\n",
    "\n",
    "print(factorial(5)) \n",
    "logging.debug('End of program')"
   ]
  },
  {
   "cell_type": "markdown",
   "metadata": {},
   "source": [
    "# Logging Levels\n",
    "There are five logging levels. Messages can be logged at each level using a different logging function.\n",
    "\n",
    "|Level|Logging|Function Description|\n",
    "|-----|-------|--------------------|\n",
    "|DEBUG| logging.debug() |The lowest level. Used for small details. Usually you care about these messages only when diagnosing problems.|\n",
    "|INFO| logging.info()| Used to record information on general events in your program or confirm that things are working at their point in the program.|\n",
    "|WARNING |logging.warning()| Used to indicate a potential problem that doesn’t prevent the program from working but might do so in the future.|\n",
    "|ERROR| logging.error()| Used to record an error that caused the program to fail to do something.|\n",
    "|CRITICAL| logging.critical()| The highest level. Used to indicate a fatal error that has caused or is about to cause the program to stop running entirely.|}\n"
   ]
  },
  {
   "cell_type": "code",
   "execution_count": 10,
   "metadata": {},
   "outputs": [],
   "source": [
    "import logging \n",
    "logging.basicConfig(level=logging.DEBUG, format=' %(asctime)s - %(levelname)s - %(message)s')"
   ]
  },
  {
   "cell_type": "code",
   "execution_count": 11,
   "metadata": {},
   "outputs": [
    {
     "name": "stderr",
     "output_type": "stream",
     "text": [
      " 2023-08-02 18:59:20,472 - DEBUG - Some debugging details.\n"
     ]
    }
   ],
   "source": [
    "logging.debug('Some debugging details.')"
   ]
  },
  {
   "cell_type": "code",
   "execution_count": 12,
   "metadata": {},
   "outputs": [
    {
     "name": "stderr",
     "output_type": "stream",
     "text": [
      " 2023-08-02 18:59:24,838 - INFO - The logging module is working.\n"
     ]
    }
   ],
   "source": [
    "logging.info('The logging module is working.')"
   ]
  },
  {
   "cell_type": "code",
   "execution_count": 13,
   "metadata": {},
   "outputs": [
    {
     "name": "stderr",
     "output_type": "stream",
     "text": [
      " 2023-08-02 18:59:27,783 - WARNING - An error message is about to be logged\n"
     ]
    }
   ],
   "source": [
    "logging.warning('An error message is about to be logged')"
   ]
  },
  {
   "cell_type": "code",
   "execution_count": 14,
   "metadata": {},
   "outputs": [
    {
     "name": "stderr",
     "output_type": "stream",
     "text": [
      " 2023-08-02 18:59:31,040 - ERROR - AN error has occurred.\n"
     ]
    }
   ],
   "source": [
    "logging.error('AN error has occurred.')"
   ]
  },
  {
   "cell_type": "code",
   "execution_count": 15,
   "metadata": {},
   "outputs": [
    {
     "name": "stderr",
     "output_type": "stream",
     "text": [
      " 2023-08-02 18:59:34,420 - CRITICAL - The program is unable to recover.\n"
     ]
    }
   ],
   "source": [
    "logging.critical('The program is unable to recover.')"
   ]
  },
  {
   "cell_type": "markdown",
   "metadata": {},
   "source": [
    "You can set `basicConfig()`’s level argument to `logging.ERROR` . This will show only `ERROR` and and `CRITICAL` messages and skip the `DEBUG`, `INFO`, and `WARNING` messages."
   ]
  },
  {
   "cell_type": "markdown",
   "metadata": {},
   "source": [
    "# Disabling Logging\n",
    "The `logging.disable()` function disables these so that you don’t have to go into your program and remove all the logging calls by hand. You simply pass `logging.disable()` a logging level, and it will suppress all log messages at that level or lower. So if you want to disable logging entirely, just add logging.disable(logging.CRITICAL) to your program."
   ]
  },
  {
   "cell_type": "code",
   "execution_count": 16,
   "metadata": {},
   "outputs": [
    {
     "name": "stderr",
     "output_type": "stream",
     "text": [
      " 2023-08-02 18:59:49,366 - CRITICAL - Critical error! Critical error!\n"
     ]
    }
   ],
   "source": [
    "import logging\n",
    "logging.basicConfig(level=logging.INFO, format=' %(asctime)s - %(levelname)s - %(message)s')\n",
    "logging.critical('Critical error! Critical error!')"
   ]
  },
  {
   "cell_type": "code",
   "execution_count": 17,
   "metadata": {},
   "outputs": [],
   "source": [
    "logging.disable(logging.CRITICAL)"
   ]
  },
  {
   "cell_type": "code",
   "execution_count": 18,
   "metadata": {},
   "outputs": [],
   "source": [
    "logging.critical('Critical error! Critical error!')"
   ]
  },
  {
   "cell_type": "code",
   "execution_count": 19,
   "metadata": {},
   "outputs": [],
   "source": [
    "logging.error('Error! Error!')"
   ]
  },
  {
   "cell_type": "markdown",
   "metadata": {},
   "source": [
    "# Logging to a file\n",
    "Instead of displaying the log messages to the screen, you can write them to a text file."
   ]
  },
  {
   "cell_type": "code",
   "execution_count": 24,
   "metadata": {},
   "outputs": [],
   "source": [
    "import logging \n",
    "logging.basicConfig(filename='./myProgramLog.txt' , level=logging.DEBUG, format=' %(asctime)s - %(levelname)s - %(message)s')"
   ]
  },
  {
   "cell_type": "code",
   "execution_count": 25,
   "metadata": {},
   "outputs": [],
   "source": [
    "logging.debug('First debug')\n",
    "logging.debug('Second debug')"
   ]
  },
  {
   "cell_type": "code",
   "execution_count": 26,
   "metadata": {},
   "outputs": [
    {
     "ename": "FileNotFoundError",
     "evalue": "[Errno 2] No such file or directory: './myProgramLog.txt'",
     "output_type": "error",
     "traceback": [
      "\u001b[0;31m---------------------------------------------------------------------------\u001b[0m",
      "\u001b[0;31mFileNotFoundError\u001b[0m                         Traceback (most recent call last)",
      "Cell \u001b[0;32mIn[26], line 1\u001b[0m\n\u001b[0;32m----> 1\u001b[0m f \u001b[39m=\u001b[39m \u001b[39mopen\u001b[39;49m(\u001b[39m'\u001b[39;49m\u001b[39m./myProgramLog.txt\u001b[39;49m\u001b[39m'\u001b[39;49m, \u001b[39m'\u001b[39;49m\u001b[39mr\u001b[39;49m\u001b[39m'\u001b[39;49m)\n\u001b[1;32m      2\u001b[0m f\u001b[39m.\u001b[39mread()\n",
      "File \u001b[0;32m~/intro-data-engineering/venv/lib/python3.10/site-packages/IPython/core/interactiveshell.py:284\u001b[0m, in \u001b[0;36m_modified_open\u001b[0;34m(file, *args, **kwargs)\u001b[0m\n\u001b[1;32m    277\u001b[0m \u001b[39mif\u001b[39;00m file \u001b[39min\u001b[39;00m {\u001b[39m0\u001b[39m, \u001b[39m1\u001b[39m, \u001b[39m2\u001b[39m}:\n\u001b[1;32m    278\u001b[0m     \u001b[39mraise\u001b[39;00m \u001b[39mValueError\u001b[39;00m(\n\u001b[1;32m    279\u001b[0m         \u001b[39mf\u001b[39m\u001b[39m\"\u001b[39m\u001b[39mIPython won\u001b[39m\u001b[39m'\u001b[39m\u001b[39mt let you open fd=\u001b[39m\u001b[39m{\u001b[39;00mfile\u001b[39m}\u001b[39;00m\u001b[39m by default \u001b[39m\u001b[39m\"\u001b[39m\n\u001b[1;32m    280\u001b[0m         \u001b[39m\"\u001b[39m\u001b[39mas it is likely to crash IPython. If you know what you are doing, \u001b[39m\u001b[39m\"\u001b[39m\n\u001b[1;32m    281\u001b[0m         \u001b[39m\"\u001b[39m\u001b[39myou can use builtins\u001b[39m\u001b[39m'\u001b[39m\u001b[39m open.\u001b[39m\u001b[39m\"\u001b[39m\n\u001b[1;32m    282\u001b[0m     )\n\u001b[0;32m--> 284\u001b[0m \u001b[39mreturn\u001b[39;00m io_open(file, \u001b[39m*\u001b[39;49margs, \u001b[39m*\u001b[39;49m\u001b[39m*\u001b[39;49mkwargs)\n",
      "\u001b[0;31mFileNotFoundError\u001b[0m: [Errno 2] No such file or directory: './myProgramLog.txt'"
     ]
    }
   ],
   "source": [
    "f = open('./myProgramLog.txt', 'r')\n",
    "f.read()"
   ]
  },
  {
   "cell_type": "markdown",
   "metadata": {},
   "source": [
    "# IDLE's Notebook Debugger\n",
    "The standard Python tool for interactive debugging is ``pdb``, the Python debugger.\n",
    "This debugger lets the user step through the code line by line in order to see what might be causing a more difficult error.\n",
    "The IPython-enhanced version of this is ``ipdb``, the IPython debugger.\n",
    "\n",
    "There are many ways to launch and use both these debuggers; we won't cover them fully here.\n",
    "Refer to the online documentation of these two utilities to learn more.\n",
    "\n",
    "In IPython, perhaps the most convenient interface to debugging is the ``%debug`` magic command.\n",
    "If you call it after hitting an exception, it will automatically open an interactive debugging prompt at the point of the exception.\n",
    "The ``ipdb`` prompt lets you explore the current state of the stack, explore the available variables, and even run Python commands!\n",
    "\n",
    "Let's look at the most recent exception, then do some basic tasks–print the values of ``a`` and ``b``, and type ``quit`` to quit the debugging session:"
   ]
  },
  {
   "cell_type": "code",
   "execution_count": 1,
   "metadata": {},
   "outputs": [],
   "source": [
    "def func1(a, b):\n",
    "    return a / b\n",
    "\n",
    "def func2(x):\n",
    "    a = x\n",
    "    b = x - 1\n",
    "    return func1(a, b)"
   ]
  },
  {
   "cell_type": "code",
   "execution_count": 2,
   "metadata": {},
   "outputs": [
    {
     "ename": "TypeError",
     "evalue": "func1() missing 1 required positional argument: 'b'",
     "output_type": "error",
     "traceback": [
      "\u001b[0;31m---------------------------------------------------------------------------\u001b[0m",
      "\u001b[0;31mTypeError\u001b[0m                                 Traceback (most recent call last)",
      "Cell \u001b[0;32mIn[2], line 1\u001b[0m\n\u001b[0;32m----> 1\u001b[0m func1(\u001b[39m1\u001b[39;49m)\n",
      "\u001b[0;31mTypeError\u001b[0m: func1() missing 1 required positional argument: 'b'"
     ]
    }
   ],
   "source": [
    "func1(1)"
   ]
  },
  {
   "cell_type": "code",
   "execution_count": 3,
   "metadata": {},
   "outputs": [
    {
     "ename": "ZeroDivisionError",
     "evalue": "division by zero",
     "output_type": "error",
     "traceback": [
      "\u001b[0;31m---------------------------------------------------------------------------\u001b[0m",
      "\u001b[0;31mZeroDivisionError\u001b[0m                         Traceback (most recent call last)",
      "Cell \u001b[0;32mIn[3], line 1\u001b[0m\n\u001b[0;32m----> 1\u001b[0m func2(\u001b[39m1\u001b[39;49m)\n",
      "Cell \u001b[0;32mIn[1], line 7\u001b[0m, in \u001b[0;36mfunc2\u001b[0;34m(x)\u001b[0m\n\u001b[1;32m      5\u001b[0m a \u001b[39m=\u001b[39m x\n\u001b[1;32m      6\u001b[0m b \u001b[39m=\u001b[39m x \u001b[39m-\u001b[39m \u001b[39m1\u001b[39m\n\u001b[0;32m----> 7\u001b[0m \u001b[39mreturn\u001b[39;00m func1(a, b)\n",
      "Cell \u001b[0;32mIn[1], line 2\u001b[0m, in \u001b[0;36mfunc1\u001b[0;34m(a, b)\u001b[0m\n\u001b[1;32m      1\u001b[0m \u001b[39mdef\u001b[39;00m \u001b[39mfunc1\u001b[39m(a, b):\n\u001b[0;32m----> 2\u001b[0m     \u001b[39mreturn\u001b[39;00m a \u001b[39m/\u001b[39;49m b\n",
      "\u001b[0;31mZeroDivisionError\u001b[0m: division by zero"
     ]
    }
   ],
   "source": [
    "func2(1)"
   ]
  },
  {
   "cell_type": "code",
   "execution_count": 4,
   "metadata": {},
   "outputs": [
    {
     "name": "stdout",
     "output_type": "stream",
     "text": [
      "Exception reporting mode: Plain\n",
      "Automatic pdb calling has been turned ON\n"
     ]
    }
   ],
   "source": [
    "%xmode Plain\n",
    "%pdb on"
   ]
  },
  {
   "cell_type": "code",
   "execution_count": 5,
   "metadata": {},
   "outputs": [
    {
     "name": "stdout",
     "output_type": "stream",
     "text": [
      "> \u001b[0;32m/var/folders/b4/tqgv7fkn27z97nlfhwtn2jqm0000gp/T/ipykernel_23426/4021589855.py\u001b[0m(2)\u001b[0;36mfunc1\u001b[0;34m()\u001b[0m\n",
      "\u001b[0;32m      1 \u001b[0;31m\u001b[0;32mdef\u001b[0m \u001b[0mfunc1\u001b[0m\u001b[0;34m(\u001b[0m\u001b[0ma\u001b[0m\u001b[0;34m,\u001b[0m \u001b[0mb\u001b[0m\u001b[0;34m)\u001b[0m\u001b[0;34m:\u001b[0m\u001b[0;34m\u001b[0m\u001b[0;34m\u001b[0m\u001b[0m\n",
      "\u001b[0m\u001b[0;32m----> 2 \u001b[0;31m    \u001b[0;32mreturn\u001b[0m \u001b[0ma\u001b[0m \u001b[0;34m/\u001b[0m \u001b[0mb\u001b[0m\u001b[0;34m\u001b[0m\u001b[0;34m\u001b[0m\u001b[0m\n",
      "\u001b[0m\u001b[0;32m      3 \u001b[0;31m\u001b[0;34m\u001b[0m\u001b[0m\n",
      "\u001b[0m\u001b[0;32m      4 \u001b[0;31m\u001b[0;32mdef\u001b[0m \u001b[0mfunc2\u001b[0m\u001b[0;34m(\u001b[0m\u001b[0mx\u001b[0m\u001b[0;34m)\u001b[0m\u001b[0;34m:\u001b[0m\u001b[0;34m\u001b[0m\u001b[0;34m\u001b[0m\u001b[0m\n",
      "\u001b[0m\u001b[0;32m      5 \u001b[0;31m    \u001b[0ma\u001b[0m \u001b[0;34m=\u001b[0m \u001b[0mx\u001b[0m\u001b[0;34m\u001b[0m\u001b[0;34m\u001b[0m\u001b[0m\n",
      "\u001b[0m\n",
      "a\n",
      "a\n",
      "a\n",
      "a\n",
      "a\n",
      "a\n"
     ]
    }
   ],
   "source": [
    "%debug\n"
   ]
  },
  {
   "cell_type": "code",
   "execution_count": null,
   "metadata": {},
   "outputs": [],
   "source": []
  }
 ],
 "metadata": {
  "kernelspec": {
   "display_name": "venv",
   "language": "python",
   "name": "python3"
  },
  "language_info": {
   "codemirror_mode": {
    "name": "ipython",
    "version": 3
   },
   "file_extension": ".py",
   "mimetype": "text/x-python",
   "name": "python",
   "nbconvert_exporter": "python",
   "pygments_lexer": "ipython3",
   "version": "3.10.12"
  },
  "orig_nbformat": 4
 },
 "nbformat": 4,
 "nbformat_minor": 2
}
